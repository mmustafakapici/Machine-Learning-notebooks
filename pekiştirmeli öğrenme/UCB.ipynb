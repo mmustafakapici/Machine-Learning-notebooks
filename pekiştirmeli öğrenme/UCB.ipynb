{
 "cells": [
  {
   "cell_type": "code",
   "execution_count": 1,
   "metadata": {},
   "outputs": [],
   "source": [
    "import numpy as np\n",
    "import matplotlib.pyplot as plt\n",
    "import pandas as pd"
   ]
  },
  {
   "cell_type": "code",
   "execution_count": 2,
   "metadata": {},
   "outputs": [],
   "source": [
    "veriler = pd.read_csv('Ads_CTR_Optimisation.csv')"
   ]
  },
  {
   "cell_type": "code",
   "execution_count": 3,
   "metadata": {},
   "outputs": [
    {
     "name": "stdout",
     "output_type": "stream",
     "text": [
      "Toplam Odul: 2178\n"
     ]
    }
   ],
   "source": [
    "#UCB\n",
    "import random\n",
    "import math\n",
    "\n",
    "N = 10000\n",
    "d = 10\n",
    "toplam = 0\n",
    "secilenler = []\n",
    "sayilar = [0] * d\n",
    "toplamlar = [0] * d\n",
    "for n in range(0, N):\n",
    "    ad = 0\n",
    "    max_ucb = 0\n",
    "    for i in range(0, d):\n",
    "        if (sayilar[i] > 0):\n",
    "            ortalama = toplamlar[i] / sayilar[i]\n",
    "            delta = math.sqrt(3/2 * math.log(n + 1) / sayilar[i])\n",
    "            ucb = ortalama + delta\n",
    "        else:\n",
    "            ucb = 1e400\n",
    "        if ucb > max_ucb:\n",
    "            max_ucb = ucb\n",
    "            ad = i\n",
    "    secilenler.append(ad)\n",
    "    sayilar[ad] = sayilar[ad] + 1\n",
    "    odul = veriler.values[n, ad]\n",
    "    toplamlar[ad] = toplamlar[ad] + odul\n",
    "    toplam = toplam + odul\n",
    "\n",
    "print('Toplam Odul:', toplam)\n"
   ]
  },
  {
   "cell_type": "code",
   "execution_count": 4,
   "metadata": {},
   "outputs": [
    {
     "data": {
      "text/plain": [
       "(array([ 705.,  387.,  186.,  345., 6323.,  150.,  292., 1170.,  256.,\n",
       "         186.]),\n",
       " array([0. , 0.9, 1.8, 2.7, 3.6, 4.5, 5.4, 6.3, 7.2, 8.1, 9. ]),\n",
       " <BarContainer object of 10 artists>)"
      ]
     },
     "execution_count": 4,
     "metadata": {},
     "output_type": "execute_result"
    },
    {
     "data": {
      "image/png": "[encoded data removed]",
      "text/plain": [
       "<Figure size 640x480 with 1 Axes>"
      ]
     },
     "metadata": {},
     "output_type": "display_data"
    }
   ],
   "source": [
    "plt.hist(secilenler)"
   ]
  }
 ],
 "metadata": {
  "kernelspec": {
   "display_name": "Python 3.9.13 ('alll')",
   "language": "python",
   "name": "python3"
  },
  "language_info": {
   "codemirror_mode": {
    "name": "ipython",
    "version": 3
   },
   "file_extension": ".py",
   "mimetype": "text/x-python",
   "name": "python",
   "nbconvert_exporter": "python",
   "pygments_lexer": "ipython3",
   "version": "3.9.13"
  },
  "orig_nbformat": 4,
  "vscode": {
   "interpreter": {
    "hash": "687a51a9b8c21951a4636686f8bd0c29503d6131d4a8025a43bb83cf5cba365a"
   }
  }
 },
 "nbformat": 4,
 "nbformat_minor": 2
}
