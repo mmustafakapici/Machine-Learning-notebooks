{
 "cells": [
  {
   "cell_type": "code",
   "execution_count": 1,
   "metadata": {},
   "outputs": [],
   "source": [
    "import numpy as np\n",
    "import pandas as pd\n",
    "import matplotlib.pyplot as plt\n",
    "from apyori import apriori"
   ]
  },
  {
   "cell_type": "code",
   "execution_count": 2,
   "metadata": {},
   "outputs": [],
   "source": [
    "veriler = pd.read_csv('sepet.csv', header=None)"
   ]
  },
  {
   "cell_type": "code",
   "execution_count": 3,
   "metadata": {},
   "outputs": [],
   "source": [
    "# verilerin listeye çevrilmesi\n",
    "transactions = []\n",
    "for i in range(0, 7501):\n",
    "    transactions.append([str(veriler.values[i,j]) for j in range(0, 20)])\n",
    "\n"
   ]
  },
  {
   "cell_type": "code",
   "execution_count": 4,
   "metadata": {},
   "outputs": [
    {
     "name": "stdout",
     "output_type": "stream",
     "text": [
      "Rule:\t frozenset({'light cream', 'chicken'})\n",
      "Support:\t 0.004532728969470737\n",
      "Confidence:\t 0.29059829059829057\n",
      "Lift:\t 4.84395061728395\n",
      "=======================================\n",
      "Rule:\t frozenset({'mushroom cream sauce', 'escalope'})\n",
      "Support:\t 0.005732568990801226\n",
      "Confidence:\t 0.3006993006993007\n",
      "Lift:\t 3.790832696715049\n",
      "=======================================\n",
      "Rule:\t frozenset({'pasta', 'escalope'})\n",
      "Support:\t 0.005865884548726837\n",
      "Confidence:\t 0.3728813559322034\n",
      "Lift:\t 4.700811850163794\n",
      "=======================================\n",
      "Rule:\t frozenset({'fromage blanc', 'honey'})\n",
      "Support:\t 0.003332888948140248\n",
      "Confidence:\t 0.2450980392156863\n",
      "Lift:\t 5.164270764485569\n",
      "=======================================\n",
      "Rule:\t frozenset({'herb & pepper', 'ground beef'})\n",
      "Support:\t 0.015997866951073192\n",
      "Confidence:\t 0.3234501347708895\n",
      "Lift:\t 3.2919938411349285\n",
      "=======================================\n",
      "Rule:\t frozenset({'tomato sauce', 'ground beef'})\n",
      "Support:\t 0.005332622317024397\n",
      "Confidence:\t 0.3773584905660377\n",
      "Lift:\t 3.840659481324083\n",
      "=======================================\n",
      "Rule:\t frozenset({'olive oil', 'light cream'})\n",
      "Support:\t 0.003199573390214638\n",
      "Confidence:\t 0.20512820512820515\n",
      "Lift:\t 3.1147098515519573\n",
      "=======================================\n",
      "Rule:\t frozenset({'olive oil', 'whole wheat pasta'})\n",
      "Support:\t 0.007998933475536596\n",
      "Confidence:\t 0.2714932126696833\n",
      "Lift:\t 4.122410097642296\n",
      "=======================================\n",
      "Rule:\t frozenset({'pasta', 'shrimp'})\n",
      "Support:\t 0.005065991201173177\n",
      "Confidence:\t 0.3220338983050847\n",
      "Lift:\t 4.506672147735896\n",
      "=======================================\n"
     ]
    }
   ],
   "source": [
    "# apriori algoritmasi\n",
    "rules = apriori(transactions, min_support = 0.003, min_confidence = 0.2, min_lift = 3, min_length = 2 , max_length=2)\n",
    "\n",
    "# sonuçları listeye çevirme\n",
    "results = list(rules)\n",
    "\n",
    "# sonuçları gösterme\n",
    "for i in range(0, len(results)):\n",
    "    print('Rule:\\t', results[i][0])\n",
    "    print('Support:\\t', results[i][1])\n",
    "    print('Confidence:\\t', results[i][2][0][2])\n",
    "    print('Lift:\\t', results[i][2][0][3])\n",
    "    print('=======================================')\n"
   ]
  }
 ],
 "metadata": {
  "kernelspec": {
   "display_name": "Python 3.9.13 ('alll')",
   "language": "python",
   "name": "python3"
  },
  "language_info": {
   "codemirror_mode": {
    "name": "ipython",
    "version": 3
   },
   "file_extension": ".py",
   "mimetype": "text/x-python",
   "name": "python",
   "nbconvert_exporter": "python",
   "pygments_lexer": "ipython3",
   "version": "3.9.13 (main, Oct 13 2022, 21:23:06) [MSC v.1916 64 bit (AMD64)]"
  },
  "orig_nbformat": 4,
  "vscode": {
   "interpreter": {
    "hash": "687a51a9b8c21951a4636686f8bd0c29503d6131d4a8025a43bb83cf5cba365a"
   }
  }
 },
 "nbformat": 4,
 "nbformat_minor": 2
}
